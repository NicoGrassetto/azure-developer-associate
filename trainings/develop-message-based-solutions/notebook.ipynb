{
 "cells": [
  {
   "cell_type": "code",
   "execution_count": 3,
   "id": "42504e20",
   "metadata": {},
   "outputs": [
    {
     "name": "stdout",
     "output_type": "stream",
     "text": [
      "Requirement already satisfied: azure-identity in /Users/nicograssetto/Documents/GitHub/notes/.venv/lib/python3.12/site-packages (1.21.0)\n",
      "Requirement already satisfied: azure-core>=1.31.0 in /Users/nicograssetto/Documents/GitHub/notes/.venv/lib/python3.12/site-packages (from azure-identity) (1.33.0)\n",
      "Requirement already satisfied: cryptography>=2.5 in /Users/nicograssetto/Documents/GitHub/notes/.venv/lib/python3.12/site-packages (from azure-identity) (44.0.2)\n",
      "Requirement already satisfied: msal>=1.30.0 in /Users/nicograssetto/Documents/GitHub/notes/.venv/lib/python3.12/site-packages (from azure-identity) (1.32.0)\n",
      "Requirement already satisfied: msal-extensions>=1.2.0 in /Users/nicograssetto/Documents/GitHub/notes/.venv/lib/python3.12/site-packages (from azure-identity) (1.3.1)\n",
      "Requirement already satisfied: typing-extensions>=4.0.0 in /Users/nicograssetto/Documents/GitHub/notes/.venv/lib/python3.12/site-packages (from azure-identity) (4.13.1)\n",
      "Requirement already satisfied: requests>=2.21.0 in /Users/nicograssetto/Documents/GitHub/notes/.venv/lib/python3.12/site-packages (from azure-core>=1.31.0->azure-identity) (2.32.3)\n",
      "Requirement already satisfied: six>=1.11.0 in /Users/nicograssetto/Documents/GitHub/notes/.venv/lib/python3.12/site-packages (from azure-core>=1.31.0->azure-identity) (1.17.0)\n",
      "Requirement already satisfied: cffi>=1.12 in /Users/nicograssetto/Documents/GitHub/notes/.venv/lib/python3.12/site-packages (from cryptography>=2.5->azure-identity) (1.17.1)\n",
      "Requirement already satisfied: PyJWT<3,>=1.0.0 in /Users/nicograssetto/Documents/GitHub/notes/.venv/lib/python3.12/site-packages (from PyJWT[crypto]<3,>=1.0.0->msal>=1.30.0->azure-identity) (2.10.1)\n",
      "Requirement already satisfied: pycparser in /Users/nicograssetto/Documents/GitHub/notes/.venv/lib/python3.12/site-packages (from cffi>=1.12->cryptography>=2.5->azure-identity) (2.22)\n",
      "Requirement already satisfied: charset-normalizer<4,>=2 in /Users/nicograssetto/Documents/GitHub/notes/.venv/lib/python3.12/site-packages (from requests>=2.21.0->azure-core>=1.31.0->azure-identity) (3.4.1)\n",
      "Requirement already satisfied: idna<4,>=2.5 in /Users/nicograssetto/Documents/GitHub/notes/.venv/lib/python3.12/site-packages (from requests>=2.21.0->azure-core>=1.31.0->azure-identity) (3.10)\n",
      "Requirement already satisfied: urllib3<3,>=1.21.1 in /Users/nicograssetto/Documents/GitHub/notes/.venv/lib/python3.12/site-packages (from requests>=2.21.0->azure-core>=1.31.0->azure-identity) (2.3.0)\n",
      "Requirement already satisfied: certifi>=2017.4.17 in /Users/nicograssetto/Documents/GitHub/notes/.venv/lib/python3.12/site-packages (from requests>=2.21.0->azure-core>=1.31.0->azure-identity) (2025.1.31)\n",
      "Collecting azure-keyvault-secrets\n",
      "  Downloading azure_keyvault_secrets-4.9.0-py3-none-any.whl.metadata (29 kB)\n",
      "Requirement already satisfied: azure-core>=1.31.0 in /Users/nicograssetto/Documents/GitHub/notes/.venv/lib/python3.12/site-packages (from azure-keyvault-secrets) (1.33.0)\n",
      "Collecting isodate>=0.6.1 (from azure-keyvault-secrets)\n",
      "  Using cached isodate-0.7.2-py3-none-any.whl.metadata (11 kB)\n",
      "Requirement already satisfied: typing-extensions>=4.0.1 in /Users/nicograssetto/Documents/GitHub/notes/.venv/lib/python3.12/site-packages (from azure-keyvault-secrets) (4.13.1)\n",
      "Requirement already satisfied: requests>=2.21.0 in /Users/nicograssetto/Documents/GitHub/notes/.venv/lib/python3.12/site-packages (from azure-core>=1.31.0->azure-keyvault-secrets) (2.32.3)\n",
      "Requirement already satisfied: six>=1.11.0 in /Users/nicograssetto/Documents/GitHub/notes/.venv/lib/python3.12/site-packages (from azure-core>=1.31.0->azure-keyvault-secrets) (1.17.0)\n",
      "Requirement already satisfied: charset-normalizer<4,>=2 in /Users/nicograssetto/Documents/GitHub/notes/.venv/lib/python3.12/site-packages (from requests>=2.21.0->azure-core>=1.31.0->azure-keyvault-secrets) (3.4.1)\n",
      "Requirement already satisfied: idna<4,>=2.5 in /Users/nicograssetto/Documents/GitHub/notes/.venv/lib/python3.12/site-packages (from requests>=2.21.0->azure-core>=1.31.0->azure-keyvault-secrets) (3.10)\n",
      "Requirement already satisfied: urllib3<3,>=1.21.1 in /Users/nicograssetto/Documents/GitHub/notes/.venv/lib/python3.12/site-packages (from requests>=2.21.0->azure-core>=1.31.0->azure-keyvault-secrets) (2.3.0)\n",
      "Requirement already satisfied: certifi>=2017.4.17 in /Users/nicograssetto/Documents/GitHub/notes/.venv/lib/python3.12/site-packages (from requests>=2.21.0->azure-core>=1.31.0->azure-keyvault-secrets) (2025.1.31)\n",
      "Downloading azure_keyvault_secrets-4.9.0-py3-none-any.whl (87 kB)\n",
      "Using cached isodate-0.7.2-py3-none-any.whl (22 kB)\n",
      "Installing collected packages: isodate, azure-keyvault-secrets\n",
      "Successfully installed azure-keyvault-secrets-4.9.0 isodate-0.7.2\n"
     ]
    }
   ],
   "source": [
    "!pip install azure-identity\n",
    "!pip install azure-keyvault-secrets"
   ]
  },
  {
   "cell_type": "markdown",
   "id": "184f5a82",
   "metadata": {},
   "source": [
    "# Implement Azure App Service web apps"
   ]
  },
  {
   "cell_type": "markdown",
   "id": "23da7bef",
   "metadata": {},
   "source": [
    "# Azure Developer Associate - Python Samples\n",
    "\n",
    "This notebook contains code examples for working with various Azure services using Python."
   ]
  },
  {
   "cell_type": "code",
   "execution_count": 5,
   "id": "91924232",
   "metadata": {},
   "outputs": [],
   "source": [
    "from azure.identity import DefaultAzureCredential\n",
    "from azure.keyvault.secrets import SecretClient\n",
    "\n",
    "# Replace with your Key Vault URL\n",
    "key_vault_url = \"https://azuredevassociate.vault.azure.net/\"  \n",
    "\n",
    "# Use DefaultAzureCredential to authenticate\n",
    "credential = DefaultAzureCredential()\n",
    "\n",
    "# Create a SecretClient instance\n",
    "client = SecretClient(vault_url=key_vault_url, credential=credential)"
   ]
  },
  {
   "cell_type": "code",
   "execution_count": 9,
   "id": "86c0e92a",
   "metadata": {},
   "outputs": [
    {
     "ename": "HttpResponseError",
     "evalue": "(Forbidden) Caller is not authorized to perform action on resource.\r\nIf role assignments, deny assignments or role definitions were changed recently, please observe propagation time.\r\nCaller: appid=04b07795-8ddb-461a-bbee-02f9e1bf7b46;oid=294baa14-acc3-41bb-b015-6ccae670d22a;iss=https://sts.windows.net/db129cb8-5bda-4db1-8f8e-c6a4228987c2/\r\nAction: 'Microsoft.KeyVault/vaults/secrets/readMetadata/action'\r\nResource: '/subscriptions/66ff019d-3298-4b17-b525-bc7b89191a6c/resourcegroups/rg-prod-azure-developer-associate-swedencentral-001/providers/microsoft.keyvault/vaults/azuredevassociate'\r\nAssignment: (not found)\r\nDenyAssignmentId: null\r\nDecisionReason: null \r\nVault: azuredevassociate;location=swedencentral\r\n\nCode: Forbidden\nMessage: Caller is not authorized to perform action on resource.\r\nIf role assignments, deny assignments or role definitions were changed recently, please observe propagation time.\r\nCaller: appid=04b07795-8ddb-461a-bbee-02f9e1bf7b46;oid=294baa14-acc3-41bb-b015-6ccae670d22a;iss=https://sts.windows.net/db129cb8-5bda-4db1-8f8e-c6a4228987c2/\r\nAction: 'Microsoft.KeyVault/vaults/secrets/readMetadata/action'\r\nResource: '/subscriptions/66ff019d-3298-4b17-b525-bc7b89191a6c/resourcegroups/rg-prod-azure-developer-associate-swedencentral-001/providers/microsoft.keyvault/vaults/azuredevassociate'\r\nAssignment: (not found)\r\nDenyAssignmentId: null\r\nDecisionReason: null \r\nVault: azuredevassociate;location=swedencentral\r\n\nInner error: {\n    \"code\": \"ForbiddenByRbac\"\n}",
     "output_type": "error",
     "traceback": [
      "\u001b[31m---------------------------------------------------------------------------\u001b[39m",
      "\u001b[31mHttpResponseError\u001b[39m                         Traceback (most recent call last)",
      "\u001b[36mCell\u001b[39m\u001b[36m \u001b[39m\u001b[32mIn[9]\u001b[39m\u001b[32m, line 3\u001b[39m\n\u001b[32m      1\u001b[39m \u001b[38;5;66;03m# Show all the secrets in the Key Vault\u001b[39;00m\n\u001b[32m      2\u001b[39m secrets = client.list_properties_of_secrets()\n\u001b[32m----> \u001b[39m\u001b[32m3\u001b[39m \u001b[38;5;28;43;01mfor\u001b[39;49;00m\u001b[43m \u001b[49m\u001b[43msecret\u001b[49m\u001b[43m \u001b[49m\u001b[38;5;129;43;01min\u001b[39;49;00m\u001b[43m \u001b[49m\u001b[43msecrets\u001b[49m\u001b[43m:\u001b[49m\n\u001b[32m      4\u001b[39m \u001b[43m    \u001b[49m\u001b[38;5;28;43mprint\u001b[39;49m\u001b[43m(\u001b[49m\u001b[43msecret\u001b[49m\u001b[43m.\u001b[49m\u001b[43mname\u001b[49m\u001b[43m)\u001b[49m\n",
      "\u001b[36mFile \u001b[39m\u001b[32m~/Documents/GitHub/notes/.venv/lib/python3.12/site-packages/azure/core/paging.py:123\u001b[39m, in \u001b[36mItemPaged.__next__\u001b[39m\u001b[34m(self)\u001b[39m\n\u001b[32m    121\u001b[39m \u001b[38;5;28;01mif\u001b[39;00m \u001b[38;5;28mself\u001b[39m._page_iterator \u001b[38;5;129;01mis\u001b[39;00m \u001b[38;5;28;01mNone\u001b[39;00m:\n\u001b[32m    122\u001b[39m     \u001b[38;5;28mself\u001b[39m._page_iterator = itertools.chain.from_iterable(\u001b[38;5;28mself\u001b[39m.by_page())\n\u001b[32m--> \u001b[39m\u001b[32m123\u001b[39m \u001b[38;5;28;01mreturn\u001b[39;00m \u001b[38;5;28;43mnext\u001b[39;49m\u001b[43m(\u001b[49m\u001b[38;5;28;43mself\u001b[39;49m\u001b[43m.\u001b[49m\u001b[43m_page_iterator\u001b[49m\u001b[43m)\u001b[49m\n",
      "\u001b[36mFile \u001b[39m\u001b[32m~/Documents/GitHub/notes/.venv/lib/python3.12/site-packages/azure/core/paging.py:75\u001b[39m, in \u001b[36mPageIterator.__next__\u001b[39m\u001b[34m(self)\u001b[39m\n\u001b[32m     73\u001b[39m     \u001b[38;5;28;01mraise\u001b[39;00m \u001b[38;5;167;01mStopIteration\u001b[39;00m(\u001b[33m\"\u001b[39m\u001b[33mEnd of paging\u001b[39m\u001b[33m\"\u001b[39m)\n\u001b[32m     74\u001b[39m \u001b[38;5;28;01mtry\u001b[39;00m:\n\u001b[32m---> \u001b[39m\u001b[32m75\u001b[39m     \u001b[38;5;28mself\u001b[39m._response = \u001b[38;5;28;43mself\u001b[39;49m\u001b[43m.\u001b[49m\u001b[43m_get_next\u001b[49m\u001b[43m(\u001b[49m\u001b[38;5;28;43mself\u001b[39;49m\u001b[43m.\u001b[49m\u001b[43mcontinuation_token\u001b[49m\u001b[43m)\u001b[49m\n\u001b[32m     76\u001b[39m \u001b[38;5;28;01mexcept\u001b[39;00m AzureError \u001b[38;5;28;01mas\u001b[39;00m error:\n\u001b[32m     77\u001b[39m     \u001b[38;5;28;01mif\u001b[39;00m \u001b[38;5;129;01mnot\u001b[39;00m error.continuation_token:\n",
      "\u001b[36mFile \u001b[39m\u001b[32m~/Documents/GitHub/notes/.venv/lib/python3.12/site-packages/azure/keyvault/secrets/_generated/_operations/_operations.py:860\u001b[39m, in \u001b[36mKeyVaultClientOperationsMixin.get_secrets.<locals>.get_next\u001b[39m\u001b[34m(next_link)\u001b[39m\n\u001b[32m    858\u001b[39m     map_error(status_code=response.status_code, response=response, error_map=error_map)\n\u001b[32m    859\u001b[39m     error = \u001b[38;5;28mself\u001b[39m._deserialize.failsafe_deserialize(_models.KeyVaultError, pipeline_response)\n\u001b[32m--> \u001b[39m\u001b[32m860\u001b[39m     \u001b[38;5;28;01mraise\u001b[39;00m HttpResponseError(response=response, model=error)\n\u001b[32m    862\u001b[39m \u001b[38;5;28;01mreturn\u001b[39;00m pipeline_response\n",
      "\u001b[31mHttpResponseError\u001b[39m: (Forbidden) Caller is not authorized to perform action on resource.\r\nIf role assignments, deny assignments or role definitions were changed recently, please observe propagation time.\r\nCaller: appid=04b07795-8ddb-461a-bbee-02f9e1bf7b46;oid=294baa14-acc3-41bb-b015-6ccae670d22a;iss=https://sts.windows.net/db129cb8-5bda-4db1-8f8e-c6a4228987c2/\r\nAction: 'Microsoft.KeyVault/vaults/secrets/readMetadata/action'\r\nResource: '/subscriptions/66ff019d-3298-4b17-b525-bc7b89191a6c/resourcegroups/rg-prod-azure-developer-associate-swedencentral-001/providers/microsoft.keyvault/vaults/azuredevassociate'\r\nAssignment: (not found)\r\nDenyAssignmentId: null\r\nDecisionReason: null \r\nVault: azuredevassociate;location=swedencentral\r\n\nCode: Forbidden\nMessage: Caller is not authorized to perform action on resource.\r\nIf role assignments, deny assignments or role definitions were changed recently, please observe propagation time.\r\nCaller: appid=04b07795-8ddb-461a-bbee-02f9e1bf7b46;oid=294baa14-acc3-41bb-b015-6ccae670d22a;iss=https://sts.windows.net/db129cb8-5bda-4db1-8f8e-c6a4228987c2/\r\nAction: 'Microsoft.KeyVault/vaults/secrets/readMetadata/action'\r\nResource: '/subscriptions/66ff019d-3298-4b17-b525-bc7b89191a6c/resourcegroups/rg-prod-azure-developer-associate-swedencentral-001/providers/microsoft.keyvault/vaults/azuredevassociate'\r\nAssignment: (not found)\r\nDenyAssignmentId: null\r\nDecisionReason: null \r\nVault: azuredevassociate;location=swedencentral\r\n\nInner error: {\n    \"code\": \"ForbiddenByRbac\"\n}"
     ]
    }
   ],
   "source": [
    "# Show all the secrets in the Key Vault\n",
    "secrets = client.list_properties_of_secrets()\n",
    "for secret in secrets:\n",
    "    print(secret.name)"
   ]
  },
  {
   "cell_type": "code",
   "execution_count": 6,
   "id": "604e6c48",
   "metadata": {},
   "outputs": [
    {
     "name": "stdout",
     "output_type": "stream",
     "text": [
      "Collecting azure-storage-blob\n",
      "  Downloading azure_storage_blob-12.25.1-py3-none-any.whl.metadata (26 kB)\n",
      "Requirement already satisfied: azure-core>=1.30.0 in /Users/nicograssetto/Documents/GitHub/notes/.venv/lib/python3.12/site-packages (from azure-storage-blob) (1.33.0)\n",
      "Requirement already satisfied: cryptography>=2.1.4 in /Users/nicograssetto/Documents/GitHub/notes/.venv/lib/python3.12/site-packages (from azure-storage-blob) (44.0.2)\n",
      "Requirement already satisfied: typing-extensions>=4.6.0 in /Users/nicograssetto/Documents/GitHub/notes/.venv/lib/python3.12/site-packages (from azure-storage-blob) (4.13.1)\n",
      "Requirement already satisfied: isodate>=0.6.1 in /Users/nicograssetto/Documents/GitHub/notes/.venv/lib/python3.12/site-packages (from azure-storage-blob) (0.7.2)\n",
      "Requirement already satisfied: requests>=2.21.0 in /Users/nicograssetto/Documents/GitHub/notes/.venv/lib/python3.12/site-packages (from azure-core>=1.30.0->azure-storage-blob) (2.32.3)\n",
      "Requirement already satisfied: six>=1.11.0 in /Users/nicograssetto/Documents/GitHub/notes/.venv/lib/python3.12/site-packages (from azure-core>=1.30.0->azure-storage-blob) (1.17.0)\n",
      "Requirement already satisfied: cffi>=1.12 in /Users/nicograssetto/Documents/GitHub/notes/.venv/lib/python3.12/site-packages (from cryptography>=2.1.4->azure-storage-blob) (1.17.1)\n",
      "Requirement already satisfied: pycparser in /Users/nicograssetto/Documents/GitHub/notes/.venv/lib/python3.12/site-packages (from cffi>=1.12->cryptography>=2.1.4->azure-storage-blob) (2.22)\n",
      "Requirement already satisfied: charset-normalizer<4,>=2 in /Users/nicograssetto/Documents/GitHub/notes/.venv/lib/python3.12/site-packages (from requests>=2.21.0->azure-core>=1.30.0->azure-storage-blob) (3.4.1)\n",
      "Requirement already satisfied: idna<4,>=2.5 in /Users/nicograssetto/Documents/GitHub/notes/.venv/lib/python3.12/site-packages (from requests>=2.21.0->azure-core>=1.30.0->azure-storage-blob) (3.10)\n",
      "Requirement already satisfied: urllib3<3,>=1.21.1 in /Users/nicograssetto/Documents/GitHub/notes/.venv/lib/python3.12/site-packages (from requests>=2.21.0->azure-core>=1.30.0->azure-storage-blob) (2.3.0)\n",
      "Requirement already satisfied: certifi>=2017.4.17 in /Users/nicograssetto/Documents/GitHub/notes/.venv/lib/python3.12/site-packages (from requests>=2.21.0->azure-core>=1.30.0->azure-storage-blob) (2025.1.31)\n",
      "Downloading azure_storage_blob-12.25.1-py3-none-any.whl (406 kB)\n",
      "Installing collected packages: azure-storage-blob\n",
      "Successfully installed azure-storage-blob-12.25.1\n"
     ]
    }
   ],
   "source": [
    "!pip install azure-storage-blob"
   ]
  },
  {
   "cell_type": "code",
   "execution_count": null,
   "id": "dde75f10",
   "metadata": {},
   "outputs": [],
   "source": [
    "from azure.storage.blob import BlobClient\n",
    "\n",
    "# When deployed to an azure host, the default azure credential will authenticate the specified user assigned managed identity.\n",
    "user_assigned_client_id = \"<your managed identity client Id>\"\n",
    "credential = DefaultAzureCredential(managed_identity_client_id=user_assigned_client_id)\n",
    "\n",
    "blob_client = BlobClient(account_url=\"https://myaccount.blob.core.windows.net\", container_name=\"mycontainer\", blob_name=\"myblob\", credential=credential)"
   ]
  },
  {
   "cell_type": "markdown",
   "id": "b636f670",
   "metadata": {},
   "source": [
    "# Implement Azure App Service web apps\n",
    "\n",
    "Azure App Service enables you to build and host web applications in the programming language of your choice without managing infrastructure. It offers automatic scaling and high availability, supports both Windows and Linux, and enables automated deployments from GitHub, Azure DevOps, or any Git repo."
   ]
  },
  {
   "cell_type": "markdown",
   "id": "fc0fa933",
   "metadata": {},
   "source": [
    "# Implement Azure Functions\n",
    "\n",
    "Azure Functions is a serverless solution that allows you to write less code, maintain less infrastructure, and save on costs. Instead of worrying about deploying and maintaining servers, the cloud infrastructure provides all the up-to-date resources needed to keep your applications running."
   ]
  },
  {
   "cell_type": "markdown",
   "id": "f6869492",
   "metadata": {},
   "source": [
    "# Develop solutions that use Blob storage\n",
    "\n",
    "Azure Blob storage is Microsoft's object storage solution for the cloud. Blob storage is optimized for storing massive amounts of unstructured data, such as text or binary data."
   ]
  },
  {
   "cell_type": "markdown",
   "id": "3414ebc1",
   "metadata": {},
   "source": [
    "# Develop solutions that use Azure Cosmos DB\n",
    "\n",
    "Azure Cosmos DB is a fully managed NoSQL database service for modern app development. With Azure Cosmos DB, your data is automatically and instantly replicated across any number of Azure regions to ensure high availability and performance."
   ]
  },
  {
   "cell_type": "markdown",
   "id": "1603fa3a",
   "metadata": {},
   "source": [
    "# Implement containerized solutions\n",
    "\n",
    "Azure Container Instances and Azure Kubernetes Service are container management solutions that allow you to deploy and scale containerized applications without having to manage the underlying infrastructure."
   ]
  },
  {
   "cell_type": "markdown",
   "id": "cf089ba2",
   "metadata": {},
   "source": [
    "# Implement user authentication and authorization\n",
    "\n",
    "Azure Active Directory (Azure AD) is Microsoft's cloud-based identity and access management service, which helps your employees sign in and access resources."
   ]
  },
  {
   "cell_type": "markdown",
   "id": "36388539",
   "metadata": {},
   "source": [
    "# Implement secure Azure solutions\n",
    "\n",
    "Azure Key Vault is a cloud service for securely storing and accessing secrets, such as API keys, passwords, certificates, or cryptographic keys."
   ]
  },
  {
   "cell_type": "markdown",
   "id": "32949774",
   "metadata": {},
   "source": [
    "# Implement API Management\n",
    "\n",
    "Azure API Management helps organizations publish APIs to external, partner, and internal developers to unlock the potential of their data and services."
   ]
  },
  {
   "cell_type": "markdown",
   "id": "6192958d",
   "metadata": {},
   "source": [
    "# Develop event-based solutions\n",
    "\n",
    "Event-based architectures use events to trigger and communicate between decoupled services, making them ideal for modern cloud-native applications."
   ]
  },
  {
   "cell_type": "markdown",
   "id": "135e8815",
   "metadata": {},
   "source": [
    "## Explore Azure Event Grid\n",
    "\n",
    "Azure Event Grid is a fully managed event routing service that enables event-driven architectures with a publish-subscribe model."
   ]
  },
  {
   "cell_type": "markdown",
   "id": "a8b40158",
   "metadata": {},
   "source": [
    "## Explore Azure Event Hubs\n",
    "\n",
    "Azure Event Hubs is a big data streaming platform and event ingestion service capable of receiving and processing millions of events per second."
   ]
  },
  {
   "cell_type": "markdown",
   "id": "218114ca",
   "metadata": {},
   "source": [
    "# Develop message-based solutions\n",
    "\n",
    "Message-based architectures decouple the sender of a message from the consumer of that message, enabling reliable, asynchronous communication between services."
   ]
  },
  {
   "cell_type": "code",
   "execution_count": 2,
   "id": "7af7474f",
   "metadata": {},
   "outputs": [
    {
     "name": "stdout",
     "output_type": "stream",
     "text": [
      "Collecting azure-servicebus\n",
      "  Downloading azure_servicebus-7.14.2-py3-none-any.whl.metadata (96 kB)\n",
      "Requirement already satisfied: azure-core>=1.28.0 in /Users/nicograssetto/Documents/GitHub/notes/.venv/lib/python3.12/site-packages (from azure-servicebus) (1.33.0)\n",
      "Requirement already satisfied: isodate>=0.6.0 in /Users/nicograssetto/Documents/GitHub/notes/.venv/lib/python3.12/site-packages (from azure-servicebus) (0.7.2)\n",
      "Requirement already satisfied: typing-extensions>=4.6.0 in /Users/nicograssetto/Documents/GitHub/notes/.venv/lib/python3.12/site-packages (from azure-servicebus) (4.13.1)\n",
      "Requirement already satisfied: requests>=2.21.0 in /Users/nicograssetto/Documents/GitHub/notes/.venv/lib/python3.12/site-packages (from azure-core>=1.28.0->azure-servicebus) (2.32.3)\n",
      "Requirement already satisfied: six>=1.11.0 in /Users/nicograssetto/Documents/GitHub/notes/.venv/lib/python3.12/site-packages (from azure-core>=1.28.0->azure-servicebus) (1.17.0)\n",
      "Requirement already satisfied: charset-normalizer<4,>=2 in /Users/nicograssetto/Documents/GitHub/notes/.venv/lib/python3.12/site-packages (from requests>=2.21.0->azure-core>=1.28.0->azure-servicebus) (3.4.1)\n",
      "Requirement already satisfied: idna<4,>=2.5 in /Users/nicograssetto/Documents/GitHub/notes/.venv/lib/python3.12/site-packages (from requests>=2.21.0->azure-core>=1.28.0->azure-servicebus) (3.10)\n",
      "Requirement already satisfied: urllib3<3,>=1.21.1 in /Users/nicograssetto/Documents/GitHub/notes/.venv/lib/python3.12/site-packages (from requests>=2.21.0->azure-core>=1.28.0->azure-servicebus) (2.3.0)\n",
      "Requirement already satisfied: certifi>=2017.4.17 in /Users/nicograssetto/Documents/GitHub/notes/.venv/lib/python3.12/site-packages (from requests>=2.21.0->azure-core>=1.28.0->azure-servicebus) (2025.1.31)\n",
      "Downloading azure_servicebus-7.14.2-py3-none-any.whl (411 kB)\n",
      "Installing collected packages: azure-servicebus\n",
      "Successfully installed azure-servicebus-7.14.2\n"
     ]
    }
   ],
   "source": [
    "!pip install azure-servicebus"
   ]
  },
  {
   "cell_type": "code",
   "execution_count": null,
   "id": "b1f563a5",
   "metadata": {},
   "outputs": [],
   "source": [
    "# connection string to your Service Bus namespace\n",
    "connection_string = \"\"\n",
    "\n",
    "# name of your Service Bus queue\n",
    "queue_name = \"\""
   ]
  },
  {
   "cell_type": "code",
   "execution_count": 2,
   "id": "ca6b008e",
   "metadata": {},
   "outputs": [
    {
     "name": "stdout",
     "output_type": "stream",
     "text": [
      "A batch of three messages has been published to the queue.\n",
      "Follow the directions in the exercise to review the results in the Azure portal.\n",
      "Follow the directions in the exercise to review the results in the Azure portal.\n"
     ]
    }
   ],
   "source": [
    "from azure.servicebus import ServiceBusClient, ServiceBusMessage\n",
    "\n",
    "# Create a Service Bus client using the connection string\n",
    "servicebus_client = ServiceBusClient.from_connection_string(connection_string)\n",
    "\n",
    "# Create a Service Bus sender\n",
    "with servicebus_client:\n",
    "  sender = servicebus_client.get_queue_sender(queue_name=queue_name)\n",
    "  # Create a batch of messages\n",
    "  with sender:\n",
    "    # Create a batch\n",
    "    batch_message = sender.create_message_batch()\n",
    "    for i in range(1, 4):\n",
    "      try:\n",
    "        # Add a message to the batch\n",
    "        batch_message.add_message(ServiceBusMessage(f\"Message {i}\"))\n",
    "      except ValueError:\n",
    "        # ValueErrors are thrown for messages that are too large for the batch\n",
    "        raise ValueError(f\"Exception {i} has occurred.\")\n",
    "\n",
    "    # Send the batch of messages to the queue\n",
    "    sender.send_messages(batch_message)\n",
    "    print(\"A batch of three messages has been published to the queue.\")\n",
    "\n",
    "print(\"Follow the directions in the exercise to review the results in the Azure portal.\")"
   ]
  },
  {
   "cell_type": "code",
   "execution_count": null,
   "id": "02bc7d88",
   "metadata": {},
   "outputs": [],
   "source": [
    "!pip install azure-storage-queue"
   ]
  },
  {
   "cell_type": "markdown",
   "id": "f29566dd",
   "metadata": {},
   "source": [
    "# Create and manage Azure Queue Storage and messages by using Python\n",
    "\n",
    "Azure Queue Storage is a service for storing large numbers of messages. You access messages from anywhere in the world via authenticated calls using HTTP or HTTPS."
   ]
  },
  {
   "cell_type": "markdown",
   "id": "59e4caec",
   "metadata": {},
   "source": [
    "## Common Error: Incorrect Padding in Storage Account Key\n",
    "\n",
    "When working with Azure Storage account keys, you might encounter an \"Incorrect padding\" error. This typically happens when:\n",
    "\n",
    "1. The storage account key is not in the correct format for base64 decoding\n",
    "2. The key might be corrupted or improperly copied\n",
    "3. The key might be a placeholder that doesn't represent an actual Azure Storage account key\n",
    "\n",
    "**Solution:** Use a valid storage account key from the Azure Portal, which should be a properly formatted base64 string."
   ]
  },
  {
   "cell_type": "code",
   "execution_count": null,
   "id": "7c81f60d",
   "metadata": {},
   "outputs": [
    {
     "name": "stdout",
     "output_type": "stream",
     "text": [
      "Successfully created Queue client\n"
     ]
    }
   ],
   "source": [
    "from azure.storage.queue import QueueClient\n",
    "\n",
    "# Replace with a valid connection string from your Azure Storage account\n",
    "# The account key must be a valid base64-encoded string\n",
    "connection_string = \"\"\n",
    "\n",
    "queue_name = \"\"\n",
    "\n",
    "# Try/except to properly handle potential errors\n",
    "try:\n",
    "    queue_client = QueueClient.from_connection_string(conn_str=connection_string, queue_name=queue_name)\n",
    "    print(\"Successfully created Queue client\")\n",
    "except Exception as e:\n",
    "    print(f\"Error creating Queue client: {e}\")"
   ]
  },
  {
   "cell_type": "code",
   "execution_count": 19,
   "id": "808fdb51",
   "metadata": {},
   "outputs": [
    {
     "name": "stdout",
     "output_type": "stream",
     "text": [
      "Error creating queue: Server failed to authenticate the request. Make sure the value of Authorization header is formed correctly including the signature.\n",
      "RequestId:a3ff06de-a003-006e-63bf-aea2f2000000\n",
      "Time:2025-04-16T11:05:23.8470346Z\n",
      "ErrorCode:AuthenticationFailed\n",
      "authenticationerrordetail:The MAC signature found in the HTTP request '7jrGFdt0WTP1d1XegtZApLXEUtcH5ZGdGqASUyrhboA=' is not the same as any computed signature. Server used following string to sign: 'PUT\n",
      "\n",
      "\n",
      "\n",
      "\n",
      "\n",
      "\n",
      "\n",
      "\n",
      "\n",
      "\n",
      "\n",
      "x-ms-client-request-id:b1bbfb1e-1ab2-11f0-b17d-b668335d197a\n",
      "x-ms-date:Wed, 16 Apr 2025 11:05:23 GMT\n",
      "x-ms-version:2024-08-04\n",
      "/mystorageaccount/az204-queue'.\n",
      "Content: <?xml version=\"1.0\" encoding=\"utf-8\"?><Error><Code>AuthenticationFailed</Code><Message>Server failed to authenticate the request. Make sure the value of Authorization header is formed correctly including the signature.\n",
      "RequestId:a3ff06de-a003-006e-63bf-aea2f2000000\n",
      "Time:2025-04-16T11:05:23.8470346Z</Message><AuthenticationErrorDetail>The MAC signature found in the HTTP request '7jrGFdt0WTP1d1XegtZApLXEUtcH5ZGdGqASUyrhboA=' is not the same as any computed signature. Server used following string to sign: 'PUT\n",
      "\n",
      "\n",
      "\n",
      "\n",
      "\n",
      "\n",
      "\n",
      "\n",
      "\n",
      "\n",
      "\n",
      "x-ms-client-request-id:b1bbfb1e-1ab2-11f0-b17d-b668335d197a\n",
      "x-ms-date:Wed, 16 Apr 2025 11:05:23 GMT\n",
      "x-ms-version:2024-08-04\n",
      "/mystorageaccount/az204-queue'.</AuthenticationErrorDetail></Error>\n"
     ]
    }
   ],
   "source": [
    "# Using a try/except to handle potential Azure Storage Queue errors\n",
    "try:\n",
    "    # Instantiate a QueueClient which will be used to create and manipulate the queue\n",
    "    queue_client = QueueClient.from_connection_string(conn_str=connection_string, queue_name=queue_name)\n",
    "\n",
    "    # Create the queue\n",
    "    queue_client.create_queue()\n",
    "    print(f\"Queue '{queue_name}' created successfully\")\n",
    "except Exception as e:\n",
    "    print(f\"Error creating queue: {e}\")"
   ]
  },
  {
   "cell_type": "markdown",
   "id": "4918de55",
   "metadata": {},
   "source": [
    "## Queue Storage Operations\n",
    "\n",
    "Once you have a properly authenticated queue client, you can perform the following operations:"
   ]
  },
  {
   "cell_type": "code",
   "execution_count": null,
   "id": "0ad4789d",
   "metadata": {},
   "outputs": [],
   "source": [
    "# Send a message to the queue\n",
    "try:\n",
    "    queue_client.send_message(\"Hello, Azure Queue Storage!\")\n",
    "    print(\"Message sent successfully\")\n",
    "except Exception as e:\n",
    "    print(f\"Error sending message: {e}\")"
   ]
  },
  {
   "cell_type": "code",
   "execution_count": null,
   "id": "7e42e754",
   "metadata": {},
   "outputs": [],
   "source": [
    "# Peek at the messages in the queue without removing them\n",
    "try:\n",
    "    # Peek at the first message\n",
    "    peeked_messages = queue_client.peek_messages(max_messages=5)\n",
    "    \n",
    "    for peeked_message in peeked_messages:\n",
    "        print(f\"Peeked message: {peeked_message.content}\")\n",
    "except Exception as e:\n",
    "    print(f\"Error peeking messages: {e}\")"
   ]
  },
  {
   "cell_type": "code",
   "execution_count": null,
   "id": "b27d920d",
   "metadata": {},
   "outputs": [],
   "source": [
    "# Receive and process messages\n",
    "try:\n",
    "    # Receive a batch of messages\n",
    "    messages = queue_client.receive_messages(max_messages=5)\n",
    "    \n",
    "    for message in messages:\n",
    "        print(f\"Received message: {message.content}\")\n",
    "        \n",
    "        # Process the message (in a real scenario)\n",
    "        \n",
    "        # Delete the message from the queue\n",
    "        queue_client.delete_message(message)\n",
    "        print(f\"Deleted message with ID: {message.id}\")\n",
    "except Exception as e:\n",
    "    print(f\"Error receiving/processing messages: {e}\")"
   ]
  },
  {
   "cell_type": "markdown",
   "id": "ae66ec25",
   "metadata": {},
   "source": [
    "# Troubleshoot solutions by using Application Insights\n",
    "\n",
    "Azure Application Insights is an extensible Application Performance Management (APM) service for developers and DevOps professionals. Use it to monitor your live applications."
   ]
  },
  {
   "cell_type": "code",
   "execution_count": null,
   "id": "22207c65",
   "metadata": {},
   "outputs": [],
   "source": [
    "!pip install opencensus-ext-azure"
   ]
  },
  {
   "cell_type": "code",
   "execution_count": null,
   "id": "0a13f57d",
   "metadata": {},
   "outputs": [],
   "source": [
    "from opencensus.ext.azure.trace_exporter import AzureExporter\n",
    "from opencensus.ext.azure.log_exporter import AzureLogHandler\n",
    "from opencensus.trace.samplers import ProbabilitySampler\n",
    "from opencensus.trace.tracer import Tracer\n",
    "import logging\n",
    "\n",
    "# Replace with your instrumentation key\n",
    "instrumentation_key = '<your-instrumentation-key>'\n",
    "\n",
    "# Configure Azure Log Handler\n",
    "logger = logging.getLogger(__name__)\n",
    "logger.setLevel(logging.INFO)\n",
    "handler = AzureLogHandler(connection_string=f'InstrumentationKey={instrumentation_key}')\n",
    "logger.addHandler(handler)\n",
    "\n",
    "# Configure Azure Trace Exporter\n",
    "tracer = Tracer(\n",
    "    exporter=AzureExporter(connection_string=f'InstrumentationKey={instrumentation_key}'),\n",
    "    sampler=ProbabilitySampler(1.0),\n",
    ")\n",
    "\n",
    "# Example usage\n",
    "logger.info('This is a sample log message')\n",
    "\n",
    "# Create a span\n",
    "with tracer.span(name=\"sample-operation\"):\n",
    "    # Do work that you want to track\n",
    "    logger.info('Inside sample operation')\n",
    "    \n",
    "    # Create a child span\n",
    "    with tracer.span(name=\"child-operation\"):\n",
    "        logger.info('Inside child operation')\n",
    "        \n",
    "print(\"Telemetry data sent to Application Insights\")"
   ]
  }
 ],
 "metadata": {
  "kernelspec": {
   "display_name": ".venv",
   "language": "python",
   "name": "python3"
  },
  "language_info": {
   "codemirror_mode": {
    "name": "ipython",
    "version": 3
   },
   "file_extension": ".py",
   "mimetype": "text/x-python",
   "name": "python",
   "nbconvert_exporter": "python",
   "pygments_lexer": "ipython3",
   "version": "3.12.9"
  }
 },
 "nbformat": 4,
 "nbformat_minor": 5
}
