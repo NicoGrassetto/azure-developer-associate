{
 "cells": [
  {
   "cell_type": "code",
   "execution_count": 3,
   "id": "42504e20",
   "metadata": {},
   "outputs": [
    {
     "name": "stdout",
     "output_type": "stream",
     "text": [
      "Requirement already satisfied: azure-identity in /Users/nicograssetto/Documents/GitHub/notes/.venv/lib/python3.12/site-packages (1.21.0)\n",
      "Requirement already satisfied: azure-core>=1.31.0 in /Users/nicograssetto/Documents/GitHub/notes/.venv/lib/python3.12/site-packages (from azure-identity) (1.33.0)\n",
      "Requirement already satisfied: cryptography>=2.5 in /Users/nicograssetto/Documents/GitHub/notes/.venv/lib/python3.12/site-packages (from azure-identity) (44.0.2)\n",
      "Requirement already satisfied: msal>=1.30.0 in /Users/nicograssetto/Documents/GitHub/notes/.venv/lib/python3.12/site-packages (from azure-identity) (1.32.0)\n",
      "Requirement already satisfied: msal-extensions>=1.2.0 in /Users/nicograssetto/Documents/GitHub/notes/.venv/lib/python3.12/site-packages (from azure-identity) (1.3.1)\n",
      "Requirement already satisfied: typing-extensions>=4.0.0 in /Users/nicograssetto/Documents/GitHub/notes/.venv/lib/python3.12/site-packages (from azure-identity) (4.13.1)\n",
      "Requirement already satisfied: requests>=2.21.0 in /Users/nicograssetto/Documents/GitHub/notes/.venv/lib/python3.12/site-packages (from azure-core>=1.31.0->azure-identity) (2.32.3)\n",
      "Requirement already satisfied: six>=1.11.0 in /Users/nicograssetto/Documents/GitHub/notes/.venv/lib/python3.12/site-packages (from azure-core>=1.31.0->azure-identity) (1.17.0)\n",
      "Requirement already satisfied: cffi>=1.12 in /Users/nicograssetto/Documents/GitHub/notes/.venv/lib/python3.12/site-packages (from cryptography>=2.5->azure-identity) (1.17.1)\n",
      "Requirement already satisfied: PyJWT<3,>=1.0.0 in /Users/nicograssetto/Documents/GitHub/notes/.venv/lib/python3.12/site-packages (from PyJWT[crypto]<3,>=1.0.0->msal>=1.30.0->azure-identity) (2.10.1)\n",
      "Requirement already satisfied: pycparser in /Users/nicograssetto/Documents/GitHub/notes/.venv/lib/python3.12/site-packages (from cffi>=1.12->cryptography>=2.5->azure-identity) (2.22)\n",
      "Requirement already satisfied: charset-normalizer<4,>=2 in /Users/nicograssetto/Documents/GitHub/notes/.venv/lib/python3.12/site-packages (from requests>=2.21.0->azure-core>=1.31.0->azure-identity) (3.4.1)\n",
      "Requirement already satisfied: idna<4,>=2.5 in /Users/nicograssetto/Documents/GitHub/notes/.venv/lib/python3.12/site-packages (from requests>=2.21.0->azure-core>=1.31.0->azure-identity) (3.10)\n",
      "Requirement already satisfied: urllib3<3,>=1.21.1 in /Users/nicograssetto/Documents/GitHub/notes/.venv/lib/python3.12/site-packages (from requests>=2.21.0->azure-core>=1.31.0->azure-identity) (2.3.0)\n",
      "Requirement already satisfied: certifi>=2017.4.17 in /Users/nicograssetto/Documents/GitHub/notes/.venv/lib/python3.12/site-packages (from requests>=2.21.0->azure-core>=1.31.0->azure-identity) (2025.1.31)\n",
      "Collecting azure-keyvault-secrets\n",
      "  Downloading azure_keyvault_secrets-4.9.0-py3-none-any.whl.metadata (29 kB)\n",
      "Requirement already satisfied: azure-core>=1.31.0 in /Users/nicograssetto/Documents/GitHub/notes/.venv/lib/python3.12/site-packages (from azure-keyvault-secrets) (1.33.0)\n",
      "Collecting isodate>=0.6.1 (from azure-keyvault-secrets)\n",
      "  Using cached isodate-0.7.2-py3-none-any.whl.metadata (11 kB)\n",
      "Requirement already satisfied: typing-extensions>=4.0.1 in /Users/nicograssetto/Documents/GitHub/notes/.venv/lib/python3.12/site-packages (from azure-keyvault-secrets) (4.13.1)\n",
      "Requirement already satisfied: requests>=2.21.0 in /Users/nicograssetto/Documents/GitHub/notes/.venv/lib/python3.12/site-packages (from azure-core>=1.31.0->azure-keyvault-secrets) (2.32.3)\n",
      "Requirement already satisfied: six>=1.11.0 in /Users/nicograssetto/Documents/GitHub/notes/.venv/lib/python3.12/site-packages (from azure-core>=1.31.0->azure-keyvault-secrets) (1.17.0)\n",
      "Requirement already satisfied: charset-normalizer<4,>=2 in /Users/nicograssetto/Documents/GitHub/notes/.venv/lib/python3.12/site-packages (from requests>=2.21.0->azure-core>=1.31.0->azure-keyvault-secrets) (3.4.1)\n",
      "Requirement already satisfied: idna<4,>=2.5 in /Users/nicograssetto/Documents/GitHub/notes/.venv/lib/python3.12/site-packages (from requests>=2.21.0->azure-core>=1.31.0->azure-keyvault-secrets) (3.10)\n",
      "Requirement already satisfied: urllib3<3,>=1.21.1 in /Users/nicograssetto/Documents/GitHub/notes/.venv/lib/python3.12/site-packages (from requests>=2.21.0->azure-core>=1.31.0->azure-keyvault-secrets) (2.3.0)\n",
      "Requirement already satisfied: certifi>=2017.4.17 in /Users/nicograssetto/Documents/GitHub/notes/.venv/lib/python3.12/site-packages (from requests>=2.21.0->azure-core>=1.31.0->azure-keyvault-secrets) (2025.1.31)\n",
      "Downloading azure_keyvault_secrets-4.9.0-py3-none-any.whl (87 kB)\n",
      "Using cached isodate-0.7.2-py3-none-any.whl (22 kB)\n",
      "Installing collected packages: isodate, azure-keyvault-secrets\n",
      "Successfully installed azure-keyvault-secrets-4.9.0 isodate-0.7.2\n"
     ]
    }
   ],
   "source": [
    "!pip install azure-identity\n",
    "!pip install azure-keyvault-secrets"
   ]
  },
  {
   "cell_type": "code",
   "execution_count": 5,
   "id": "91924232",
   "metadata": {},
   "outputs": [],
   "source": [
    "from azure.identity import DefaultAzureCredential\n",
    "from azure.keyvault.secrets import SecretClient\n",
    "\n",
    "# Replace with your Key Vault URL\n",
    "key_vault_url = \"https://azuredevassociate.vault.azure.net/\"  \n",
    "\n",
    "# Use DefaultAzureCredential to authenticate\n",
    "credential = DefaultAzureCredential()\n",
    "\n",
    "# Create a SecretClient instance\n",
    "client = SecretClient(vault_url=key_vault_url, credential=credential)"
   ]
  },
  {
   "cell_type": "code",
   "execution_count": 9,
   "id": "86c0e92a",
   "metadata": {},
   "outputs": [
    {
     "ename": "HttpResponseError",
     "evalue": "(Forbidden) Caller is not authorized to perform action on resource.\r\nIf role assignments, deny assignments or role definitions were changed recently, please observe propagation time.\r\nCaller: appid=04b07795-8ddb-461a-bbee-02f9e1bf7b46;oid=294baa14-acc3-41bb-b015-6ccae670d22a;iss=https://sts.windows.net/db129cb8-5bda-4db1-8f8e-c6a4228987c2/\r\nAction: 'Microsoft.KeyVault/vaults/secrets/readMetadata/action'\r\nResource: '/subscriptions/66ff019d-3298-4b17-b525-bc7b89191a6c/resourcegroups/rg-prod-azure-developer-associate-swedencentral-001/providers/microsoft.keyvault/vaults/azuredevassociate'\r\nAssignment: (not found)\r\nDenyAssignmentId: null\r\nDecisionReason: null \r\nVault: azuredevassociate;location=swedencentral\r\n\nCode: Forbidden\nMessage: Caller is not authorized to perform action on resource.\r\nIf role assignments, deny assignments or role definitions were changed recently, please observe propagation time.\r\nCaller: appid=04b07795-8ddb-461a-bbee-02f9e1bf7b46;oid=294baa14-acc3-41bb-b015-6ccae670d22a;iss=https://sts.windows.net/db129cb8-5bda-4db1-8f8e-c6a4228987c2/\r\nAction: 'Microsoft.KeyVault/vaults/secrets/readMetadata/action'\r\nResource: '/subscriptions/66ff019d-3298-4b17-b525-bc7b89191a6c/resourcegroups/rg-prod-azure-developer-associate-swedencentral-001/providers/microsoft.keyvault/vaults/azuredevassociate'\r\nAssignment: (not found)\r\nDenyAssignmentId: null\r\nDecisionReason: null \r\nVault: azuredevassociate;location=swedencentral\r\n\nInner error: {\n    \"code\": \"ForbiddenByRbac\"\n}",
     "output_type": "error",
     "traceback": [
      "\u001b[31m---------------------------------------------------------------------------\u001b[39m",
      "\u001b[31mHttpResponseError\u001b[39m                         Traceback (most recent call last)",
      "\u001b[36mCell\u001b[39m\u001b[36m \u001b[39m\u001b[32mIn[9]\u001b[39m\u001b[32m, line 3\u001b[39m\n\u001b[32m      1\u001b[39m \u001b[38;5;66;03m# Show all the secrets in the Key Vault\u001b[39;00m\n\u001b[32m      2\u001b[39m secrets = client.list_properties_of_secrets()\n\u001b[32m----> \u001b[39m\u001b[32m3\u001b[39m \u001b[38;5;28;43;01mfor\u001b[39;49;00m\u001b[43m \u001b[49m\u001b[43msecret\u001b[49m\u001b[43m \u001b[49m\u001b[38;5;129;43;01min\u001b[39;49;00m\u001b[43m \u001b[49m\u001b[43msecrets\u001b[49m\u001b[43m:\u001b[49m\n\u001b[32m      4\u001b[39m \u001b[43m    \u001b[49m\u001b[38;5;28;43mprint\u001b[39;49m\u001b[43m(\u001b[49m\u001b[43msecret\u001b[49m\u001b[43m.\u001b[49m\u001b[43mname\u001b[49m\u001b[43m)\u001b[49m\n",
      "\u001b[36mFile \u001b[39m\u001b[32m~/Documents/GitHub/notes/.venv/lib/python3.12/site-packages/azure/core/paging.py:123\u001b[39m, in \u001b[36mItemPaged.__next__\u001b[39m\u001b[34m(self)\u001b[39m\n\u001b[32m    121\u001b[39m \u001b[38;5;28;01mif\u001b[39;00m \u001b[38;5;28mself\u001b[39m._page_iterator \u001b[38;5;129;01mis\u001b[39;00m \u001b[38;5;28;01mNone\u001b[39;00m:\n\u001b[32m    122\u001b[39m     \u001b[38;5;28mself\u001b[39m._page_iterator = itertools.chain.from_iterable(\u001b[38;5;28mself\u001b[39m.by_page())\n\u001b[32m--> \u001b[39m\u001b[32m123\u001b[39m \u001b[38;5;28;01mreturn\u001b[39;00m \u001b[38;5;28;43mnext\u001b[39;49m\u001b[43m(\u001b[49m\u001b[38;5;28;43mself\u001b[39;49m\u001b[43m.\u001b[49m\u001b[43m_page_iterator\u001b[49m\u001b[43m)\u001b[49m\n",
      "\u001b[36mFile \u001b[39m\u001b[32m~/Documents/GitHub/notes/.venv/lib/python3.12/site-packages/azure/core/paging.py:75\u001b[39m, in \u001b[36mPageIterator.__next__\u001b[39m\u001b[34m(self)\u001b[39m\n\u001b[32m     73\u001b[39m     \u001b[38;5;28;01mraise\u001b[39;00m \u001b[38;5;167;01mStopIteration\u001b[39;00m(\u001b[33m\"\u001b[39m\u001b[33mEnd of paging\u001b[39m\u001b[33m\"\u001b[39m)\n\u001b[32m     74\u001b[39m \u001b[38;5;28;01mtry\u001b[39;00m:\n\u001b[32m---> \u001b[39m\u001b[32m75\u001b[39m     \u001b[38;5;28mself\u001b[39m._response = \u001b[38;5;28;43mself\u001b[39;49m\u001b[43m.\u001b[49m\u001b[43m_get_next\u001b[49m\u001b[43m(\u001b[49m\u001b[38;5;28;43mself\u001b[39;49m\u001b[43m.\u001b[49m\u001b[43mcontinuation_token\u001b[49m\u001b[43m)\u001b[49m\n\u001b[32m     76\u001b[39m \u001b[38;5;28;01mexcept\u001b[39;00m AzureError \u001b[38;5;28;01mas\u001b[39;00m error:\n\u001b[32m     77\u001b[39m     \u001b[38;5;28;01mif\u001b[39;00m \u001b[38;5;129;01mnot\u001b[39;00m error.continuation_token:\n",
      "\u001b[36mFile \u001b[39m\u001b[32m~/Documents/GitHub/notes/.venv/lib/python3.12/site-packages/azure/keyvault/secrets/_generated/_operations/_operations.py:860\u001b[39m, in \u001b[36mKeyVaultClientOperationsMixin.get_secrets.<locals>.get_next\u001b[39m\u001b[34m(next_link)\u001b[39m\n\u001b[32m    858\u001b[39m     map_error(status_code=response.status_code, response=response, error_map=error_map)\n\u001b[32m    859\u001b[39m     error = \u001b[38;5;28mself\u001b[39m._deserialize.failsafe_deserialize(_models.KeyVaultError, pipeline_response)\n\u001b[32m--> \u001b[39m\u001b[32m860\u001b[39m     \u001b[38;5;28;01mraise\u001b[39;00m HttpResponseError(response=response, model=error)\n\u001b[32m    862\u001b[39m \u001b[38;5;28;01mreturn\u001b[39;00m pipeline_response\n",
      "\u001b[31mHttpResponseError\u001b[39m: (Forbidden) Caller is not authorized to perform action on resource.\r\nIf role assignments, deny assignments or role definitions were changed recently, please observe propagation time.\r\nCaller: appid=04b07795-8ddb-461a-bbee-02f9e1bf7b46;oid=294baa14-acc3-41bb-b015-6ccae670d22a;iss=https://sts.windows.net/db129cb8-5bda-4db1-8f8e-c6a4228987c2/\r\nAction: 'Microsoft.KeyVault/vaults/secrets/readMetadata/action'\r\nResource: '/subscriptions/66ff019d-3298-4b17-b525-bc7b89191a6c/resourcegroups/rg-prod-azure-developer-associate-swedencentral-001/providers/microsoft.keyvault/vaults/azuredevassociate'\r\nAssignment: (not found)\r\nDenyAssignmentId: null\r\nDecisionReason: null \r\nVault: azuredevassociate;location=swedencentral\r\n\nCode: Forbidden\nMessage: Caller is not authorized to perform action on resource.\r\nIf role assignments, deny assignments or role definitions were changed recently, please observe propagation time.\r\nCaller: appid=04b07795-8ddb-461a-bbee-02f9e1bf7b46;oid=294baa14-acc3-41bb-b015-6ccae670d22a;iss=https://sts.windows.net/db129cb8-5bda-4db1-8f8e-c6a4228987c2/\r\nAction: 'Microsoft.KeyVault/vaults/secrets/readMetadata/action'\r\nResource: '/subscriptions/66ff019d-3298-4b17-b525-bc7b89191a6c/resourcegroups/rg-prod-azure-developer-associate-swedencentral-001/providers/microsoft.keyvault/vaults/azuredevassociate'\r\nAssignment: (not found)\r\nDenyAssignmentId: null\r\nDecisionReason: null \r\nVault: azuredevassociate;location=swedencentral\r\n\nInner error: {\n    \"code\": \"ForbiddenByRbac\"\n}"
     ]
    }
   ],
   "source": [
    "# Show all the secrets in the Key Vault\n",
    "secrets = client.list_properties_of_secrets()\n",
    "for secret in secrets:\n",
    "    print(secret.name)"
   ]
  },
  {
   "cell_type": "code",
   "execution_count": null,
   "id": "dde75f10",
   "metadata": {},
   "outputs": [],
   "source": [
    "from azure.storage.blob import BlobClient\n",
    "\n",
    "# When deployed to an azure host, the default azure credential will authenticate the specified user assigned managed identity.\n",
    "user_assigned_client_id = \"<your managed identity client Id>\"\n",
    "credential = DefaultAzureCredential(managed_identity_client_id=user_assigned_client_id)\n",
    "\n",
    "blob_client = BlobClient(account_url=\"https://myaccount.blob.core.windows.net\", container_name=\"mycontainer\", blob_name=\"myblob\", credential=credential)"
   ]
  }
 ],
 "metadata": {
  "kernelspec": {
   "display_name": ".venv",
   "language": "python",
   "name": "python3"
  },
  "language_info": {
   "codemirror_mode": {
    "name": "ipython",
    "version": 3
   },
   "file_extension": ".py",
   "mimetype": "text/x-python",
   "name": "python",
   "nbconvert_exporter": "python",
   "pygments_lexer": "ipython3",
   "version": "3.12.9"
  }
 },
 "nbformat": 4,
 "nbformat_minor": 5
}
